{
  "nbformat": 4,
  "nbformat_minor": 0,
  "metadata": {
    "colab": {
      "provenance": []
    },
    "kernelspec": {
      "name": "python3",
      "display_name": "Python 3"
    },
    "language_info": {
      "name": "python"
    }
  },
  "cells": [
    {
      "cell_type": "markdown",
      "source": [
        "###Q1. What are the characteristics of the tuples? Is tuple immutable?\n",
        "###Ans: characteristics:\n",
        "\n",
        "####1) It is ordered\n",
        "####2) Web cannot change the value \n",
        "####3) It allows duplicate value hence in set it does not allow duplicate value\n",
        "\n",
        "#Is tuple immutable?\n",
        "\n",
        "#Yes. Tuple is Immutable\n"
      ],
      "metadata": {
        "id": "fcpTxmnniqqh"
      }
    },
    {
      "cell_type": "markdown",
      "source": [
        "####Q.2 What are the two tuple methods in python? Give an example of each method. Give a reason why tuples have only two in-built methods as compared to Lists.\n",
        "#Ans: \n",
        "##What are the two tuple methods in python?\n",
        "###1)\tcount() : It Returns the number of times a specified value occurs in a tuple\n",
        "###2)\tindex () : Searches the tuple for a specified value and returns the position of where it was found\n",
        "\n",
        "###Give a reason why tuples have only two in-built methods as compared to Lists.\n",
        "\n",
        "#####Tuple is immutable means we cannot change or modify it once it declared.So for that reason there are only two methods in tuple as there are many methods in list because we can modify the list .It is mutable hence we can use pop , append , reverse and many methods in list.\n",
        "\n",
        "\n",
        "\n",
        "\n"
      ],
      "metadata": {
        "id": "UOiUN6pWjBbL"
      }
    },
    {
      "cell_type": "code",
      "execution_count": 28,
      "metadata": {
        "colab": {
          "base_uri": "https://localhost:8080/"
        },
        "id": "pq36t5idTjOF",
        "outputId": "26a64663-7733-4b34-d367-a121c972434a"
      },
      "outputs": [
        {
          "output_type": "stream",
          "name": "stdout",
          "text": [
            "2\n"
          ]
        }
      ],
      "source": [
        "##count\n",
        "t1 = (1, 3, 7, 8, 7, 5, 4, 6, 8, 5)\n",
        "\n",
        "x = t1.count(5)\n",
        "\n",
        "print(x)"
      ]
    },
    {
      "cell_type": "code",
      "source": [
        "#index\n",
        "t2 = (1, 3, 7, 8, \"Rushi\",9)\n",
        "t2.index(\"Rushi\")\n"
      ],
      "metadata": {
        "colab": {
          "base_uri": "https://localhost:8080/"
        },
        "id": "JSS0O3ybTnEa",
        "outputId": "db62e717-448b-4c63-a5d0-188c045a1438"
      },
      "execution_count": 29,
      "outputs": [
        {
          "output_type": "execute_result",
          "data": {
            "text/plain": [
              "4"
            ]
          },
          "metadata": {},
          "execution_count": 29
        }
      ]
    },
    {
      "cell_type": "markdown",
      "source": [
        "##Q3. Which collection datatypes in python do not allow duplicate items? \n",
        "##Ans:\n",
        "##set are the collection datatype in python which do not allow duplicate items.\n",
        "\n",
        "\n",
        "#Write a code using a set to remove duplicates from the given list."
      ],
      "metadata": {
        "id": "jnbLZbenj640"
      }
    },
    {
      "cell_type": "code",
      "source": [
        "##Write a code using a set to remove duplicates from the given list.\n",
        "\n",
        "list1 = [1, 1, 1, 2, 1, 3, 1, 4, 2, 1, 2, 2, 2, 3, 2, 4, 3, 1, 3, 2, 3, 3, 3, 4, 4, 1, 4, 2, 4, 3, 4, 4]\n",
        "print (\"The original list is : \"\t+ str(list1))\n",
        "\n",
        "remduplicate = list(set(list1))\n",
        "\n",
        "print (\"The list after removing duplicates : \"\t+ str(remduplicate))\n"
      ],
      "metadata": {
        "colab": {
          "base_uri": "https://localhost:8080/"
        },
        "id": "t0GjvOb6Uun_",
        "outputId": "edec83d1-83fc-4fb9-9619-f354d8451fec"
      },
      "execution_count": 30,
      "outputs": [
        {
          "output_type": "stream",
          "name": "stdout",
          "text": [
            "The original list is : [1, 1, 1, 2, 1, 3, 1, 4, 2, 1, 2, 2, 2, 3, 2, 4, 3, 1, 3, 2, 3, 3, 3, 4, 4, 1, 4, 2, 4, 3, 4, 4]\n",
            "The list after removing duplicates : [1, 2, 3, 4]\n"
          ]
        }
      ]
    },
    {
      "cell_type": "markdown",
      "source": [
        "###Q4. Explain the difference between the union() and update() methods for a set. Give an example of each method.\n",
        "###The union() method returns a new set, while the update() method modifies the original set in place. \n",
        "###Both union() and update() methods are used to combine two or more sets. However, there is a subtle difference between the two methods.\n",
        "\n",
        "#1)\tUnion()\n",
        "###The union() method returns a new set that contains all the unique elements from all the sets that were used to call the method. The original sets remain unchanged. Here's an example:\n"
      ],
      "metadata": {
        "id": "uBZhrF6pkkfy"
      }
    },
    {
      "cell_type": "code",
      "source": [
        "##union\n",
        "set1 = {1, 2, 3}\n",
        "set2 = {3, 4, 5}\n",
        "\n",
        "set3 = set1.union(set2)\n",
        "\n",
        "print(set1)  \n",
        "print(set2)  \n",
        "print(set3)  \n",
        "\n",
        "##In this example, set3 contains all the unique elements from set1 and set2, but neither of the original sets are changed."
      ],
      "metadata": {
        "colab": {
          "base_uri": "https://localhost:8080/"
        },
        "id": "WdPSdermYfSc",
        "outputId": "70c1170c-20f2-4bc8-9f08-f2d638eb2148"
      },
      "execution_count": 31,
      "outputs": [
        {
          "output_type": "stream",
          "name": "stdout",
          "text": [
            "{1, 2, 3}\n",
            "{3, 4, 5}\n",
            "{1, 2, 3, 4, 5}\n"
          ]
        }
      ]
    },
    {
      "cell_type": "markdown",
      "source": [
        "#2)\tUpdate()\n",
        "####On the other hand, the update() method modifies the set that it is called on by adding all the unique elements from the other sets. Here's an example:\n"
      ],
      "metadata": {
        "id": "a_q3LxXvlAL2"
      }
    },
    {
      "cell_type": "code",
      "source": [
        "##update\n",
        "set1 = {1, 2, 3}\n",
        "set2 = {3, 4, 5}\n",
        "\n",
        "set1.update(set2)\n",
        "\n",
        "print(set1)  \n",
        "print(set2)  \n",
        "\n",
        "# In this example, set1 is modified to include all the unique elements from set2, so the output shows that set1 now contains {1, 2, 3, 4, 5}, and set2 remains unchanged.\n"
      ],
      "metadata": {
        "colab": {
          "base_uri": "https://localhost:8080/"
        },
        "id": "W03O8wGLadFC",
        "outputId": "99b69215-d213-4d51-e981-8761b9ba3394"
      },
      "execution_count": 32,
      "outputs": [
        {
          "output_type": "stream",
          "name": "stdout",
          "text": [
            "{1, 2, 3, 4, 5}\n",
            "{3, 4, 5}\n"
          ]
        }
      ]
    },
    {
      "cell_type": "markdown",
      "source": [
        "#Q5. What is a dictionary? Give an example. Also, state whether a dictionary is ordered or unordered.\n",
        "##Ans: \n",
        "###The dictionary is an unordered collection that contains key:value pairs separated by commas inside curly brackets\n",
        "\n",
        "\n",
        "#dictionary is unordered."
      ],
      "metadata": {
        "id": "nbhjoDbblVc3"
      }
    },
    {
      "cell_type": "code",
      "source": [
        "#  Dictionary\n",
        "\n",
        "d1 = { \"name\":\"rushi\",  \"YouTube_Channel_Name\":\"Rushikesh Suryawanshi\", \"Year\":2023}"
      ],
      "metadata": {
        "id": "Bt8TD8JXa2O-"
      },
      "execution_count": 33,
      "outputs": []
    },
    {
      "cell_type": "code",
      "source": [
        "d1"
      ],
      "metadata": {
        "colab": {
          "base_uri": "https://localhost:8080/"
        },
        "id": "zyspcuV8buaN",
        "outputId": "174d9b3c-9754-4eee-e67a-fee6691502c5"
      },
      "execution_count": 34,
      "outputs": [
        {
          "output_type": "execute_result",
          "data": {
            "text/plain": [
              "{'name': 'rushi',\n",
              " 'YouTube_Channel_Name': 'Rushikesh Suryawanshi',\n",
              " 'Year': 2023}"
            ]
          },
          "metadata": {},
          "execution_count": 34
        }
      ]
    },
    {
      "cell_type": "markdown",
      "source": [
        "##Q6. Can we create a nested dictionary? If so, please give an example by creating a simple one-level nested dictionary.\n",
        "##Ans: \n",
        "###Yes, we can create nested dictionary.\n",
        ": \n"
      ],
      "metadata": {
        "id": "_Aaxt1j7liwt"
      }
    },
    {
      "cell_type": "code",
      "source": [
        "# nested Dictionary\n",
        "\n",
        "Dict = {'D1': {'name': 'Rushikesh', 'age': 20}, 'D2': {'name': 'Mike Tyson', 'age': 36} ,'D3': {'Game': 'BGMI','size': '10 gb'} }\n",
        "print(Dict)"
      ],
      "metadata": {
        "id": "B0ydu06ubv0t",
        "colab": {
          "base_uri": "https://localhost:8080/"
        },
        "outputId": "19314120-f249-4e72-c085-64aa150e3a1b"
      },
      "execution_count": 35,
      "outputs": [
        {
          "output_type": "stream",
          "name": "stdout",
          "text": [
            "{'D1': {'name': 'Rushikesh', 'age': 20}, 'D2': {'name': 'Mike Tyson', 'age': 36}, 'D3': {'Game': 'BGMI', 'size': '10 gb'}}\n"
          ]
        }
      ]
    },
    {
      "cell_type": "markdown",
      "source": [
        "###Q7. Using setdefault() method, create key named topics in the given dictionary and also add the value of the key as this list ['Python', 'Machine Learning’, 'Deep Learning']\n",
        "##dict1 = {'language’: 'Python', 'course': 'Data Science Masters'}\n"
      ],
      "metadata": {
        "id": "Hnf6rM1gl07H"
      }
    },
    {
      "cell_type": "code",
      "source": [
        "#setdefault method and add value of the key as list\n",
        "\n",
        "dt1 = {'language' : 'Python', 'course': 'Data Science Masters'}\n",
        "  \n",
        "addandset = dt1.setdefault('topics', ['Python', 'Machine Learning', 'Deep Learning'] )\n",
        "print(dt1)"
      ],
      "metadata": {
        "colab": {
          "base_uri": "https://localhost:8080/"
        },
        "id": "aTzmaVYmeWk6",
        "outputId": "9a64f8c0-4b79-4537-aef1-cb8add8f2156"
      },
      "execution_count": 36,
      "outputs": [
        {
          "output_type": "stream",
          "name": "stdout",
          "text": [
            "{'language': 'Python', 'course': 'Data Science Masters', 'topics': ['Python', 'Machine Learning', 'Deep Learning']}\n"
          ]
        }
      ]
    },
    {
      "cell_type": "code",
      "source": [
        "dt1['topics']"
      ],
      "metadata": {
        "colab": {
          "base_uri": "https://localhost:8080/"
        },
        "id": "RfFiUd4Wfe50",
        "outputId": "e0d5b33f-10b0-4c67-feac-9b456edf15a5"
      },
      "execution_count": 37,
      "outputs": [
        {
          "output_type": "execute_result",
          "data": {
            "text/plain": [
              "['Python', 'Machine Learning', 'Deep Learning']"
            ]
          },
          "metadata": {},
          "execution_count": 37
        }
      ]
    },
    {
      "cell_type": "code",
      "source": [
        "dt1['topics'][1]"
      ],
      "metadata": {
        "colab": {
          "base_uri": "https://localhost:8080/",
          "height": 36
        },
        "id": "Eb4bPGnnmNh5",
        "outputId": "d0904381-b786-49b0-a204-4c267c4ca3df"
      },
      "execution_count": 38,
      "outputs": [
        {
          "output_type": "execute_result",
          "data": {
            "text/plain": [
              "'Machine Learning'"
            ],
            "application/vnd.google.colaboratory.intrinsic+json": {
              "type": "string"
            }
          },
          "metadata": {},
          "execution_count": 38
        }
      ]
    },
    {
      "cell_type": "markdown",
      "source": [
        "###Q.8 What are the three view objects in dictionaries? Use the three in-built methods in python to display these three view objects for the given dictionary dict1 = {'Sport': 'Cricket' , 'Teams': ['India', 'Australia', 'England', 'South Africa', 'Sri Lanka', 'New Zealand']}\n",
        "\n",
        "###Ans : The main view objects of dictionary in python are keys, values and items.\n",
        "1)\tKeys()    \n",
        "2)\tValues()   \n",
        " 3)\tItems()\n",
        "\n"
      ],
      "metadata": {
        "id": "W9sJv2nKh5vn"
      }
    },
    {
      "cell_type": "code",
      "source": [
        "d1 = {'Sport': 'Cricket' , 'Teams': ['India', 'Australia', 'England', 'South Africa', 'Sri Lanka', 'New Zealand']}\n"
      ],
      "metadata": {
        "id": "ph0h9iLhf-nh"
      },
      "execution_count": 39,
      "outputs": []
    },
    {
      "cell_type": "code",
      "source": [
        "d1.keys()"
      ],
      "metadata": {
        "colab": {
          "base_uri": "https://localhost:8080/"
        },
        "id": "J6B10tpuhhU_",
        "outputId": "58e41eb8-b4de-482c-a9f8-cd706285160b"
      },
      "execution_count": 40,
      "outputs": [
        {
          "output_type": "execute_result",
          "data": {
            "text/plain": [
              "dict_keys(['Sport', 'Teams'])"
            ]
          },
          "metadata": {},
          "execution_count": 40
        }
      ]
    },
    {
      "cell_type": "code",
      "source": [
        "d1.values()"
      ],
      "metadata": {
        "colab": {
          "base_uri": "https://localhost:8080/"
        },
        "id": "Jl9zcM96hkZZ",
        "outputId": "0a649bb7-b223-4b33-854e-166ab6b51964"
      },
      "execution_count": 41,
      "outputs": [
        {
          "output_type": "execute_result",
          "data": {
            "text/plain": [
              "dict_values(['Cricket', ['India', 'Australia', 'England', 'South Africa', 'Sri Lanka', 'New Zealand']])"
            ]
          },
          "metadata": {},
          "execution_count": 41
        }
      ]
    },
    {
      "cell_type": "code",
      "source": [
        "d1.items()"
      ],
      "metadata": {
        "colab": {
          "base_uri": "https://localhost:8080/"
        },
        "id": "KZKU38U7iffw",
        "outputId": "dccdbcac-49fc-470b-9b88-2c6f1c67c509"
      },
      "execution_count": 42,
      "outputs": [
        {
          "output_type": "execute_result",
          "data": {
            "text/plain": [
              "dict_items([('Sport', 'Cricket'), ('Teams', ['India', 'Australia', 'England', 'South Africa', 'Sri Lanka', 'New Zealand'])])"
            ]
          },
          "metadata": {},
          "execution_count": 42
        }
      ]
    },
    {
      "cell_type": "code",
      "source": [],
      "metadata": {
        "id": "EJyuOEXKiiEL"
      },
      "execution_count": 42,
      "outputs": []
    }
  ]
}